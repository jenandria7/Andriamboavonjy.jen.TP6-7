{
 "cells": [
  {
   "cell_type": "markdown",
   "metadata": {
    "id": "EiXiNCRV_o_c"
   },
   "source": [
    "# Introduction au Deep Learning\n",
    "\n",
    "\n",
    "Le deep learning ou apprentissage profond, est une branche de l'intelligence artificielle qui utilise des algorithmes d'apprentissage automatique (machine learning) pour modéliser et résoudre des problèmes complexes en s'inspirant du fonctionnement du cerveau humain. Le terme \"profond\" fait référence à la profondeur des réseaux de neurones artificiels utilisés dans le processus d'apprentissage.\n",
    "\n",
    "<img src='https://www.marktechpost.com/wp-content/uploads/2022/10/Blog-Banner-1-2.jpg'>\n",
    "\n",
    "Le deep learning implique l'utilisation de **réseaux de neurones artificiels multicouches** pour apprendre à partir de grandes quantités de données, en ajustant les poids et les connexions entre les neurones pour optimiser la précision des prédictions ou des classifications. Le processus d'apprentissage est itératif et se fait par l'intermédiaire d'algorithmes d'optimisation tels que la rétropropagation du gradient.\n",
    "\n",
    "Le deep learning est utilisé dans de nombreuses applications telles que \n",
    "- la reconnaissance vocale, \n",
    "- la vision par ordinateur, \n",
    "- la traduction automatique, \n",
    "- la prédiction de séquences, \n",
    "- la reconnaissance d'objets, \n",
    "- l'analyse de sentiments et \n",
    "- la recommandation de produits."
   ]
  },
  {
   "cell_type": "markdown",
   "metadata": {
    "id": "-I2obR3N_o_f"
   },
   "source": [
    "## 1. Rappels sur le Machine Learning\n",
    "\n",
    "Le machine learning est une branche de l'intelligence artificielle qui permet aux ordinateurs d'apprendre à partir de données. Il existe deux types d'apprentissage automatique : \n",
    "1. **l'apprentissage supervisé** : qui permet d'entrainer un modèle à partir de données d'entrée et de sortie connues.\n",
    "\n",
    "Les données d'entrée sont appelées **features** notées **X** et les données de sortie sont appelées **labels** notées **y**. Le modèle est entrainé à partir d'un ensemble de données d'entrée et de sortie connues. \n",
    "\n",
    "L'objectif des modèles étant de trouver meilleurs paramètres qui permettent de prédire les labels à partir des features.\n",
    "\n",
    "Exemple d'apprentissage supervisé :\n",
    "\n",
    "- **Random Forest** : un algorithme qui permet de prédire une variable à partir d'un ensemble de variables. Il est utilisé pour la prédiction de ventes, la prédiction de la consommation d'énergie, la prédiction de la probabilité de défaut, etc.\n",
    "\n",
    "<img src='https://i.stack.imgur.com/zGFsi.png' width=50%>\n",
    "\n",
    "\n",
    "2. **l'apprentissage non supervisé** : qui permet d'entrainer un modèle à partir de données d'entrée non étiquetées.\n",
    "\n",
    "Exemple d'apprentissage non supervisé :\n",
    "\n",
    "\n",
    "- **Kmeans** : un algorithme qui permet de regrouper des données en fonction de leur proximité. Il est utilisé pour la segmentation de clientèle, la classification d'images, la détection de fraude, etc.\n",
    "\n",
    "<img src='https://scikit-learn.org/stable/_images/sphx_glr_plot_kmeans_digits_001.png' width=50%>\n",
    "\n",
    "### Exercice : Entrainement d'un modèle de classification à l'aide de chatgpt\n",
    "\n",
    "A l'aide du chat d'[OpenAi](https://chat.openai.com/chat), nous allons entrainer un modèle de classification à partir du jeu de données [Bank marketing response predict](https://drive.google.com/drive/folders/1CTpm294QZ1Akyimlimtnx_V0ygOUpiik?usp=sharing).\n",
    "\n",
    "Utilisez un l'algorithme Random Forest pour ce projet.\n",
    "\n",
    "Les étapes à suivre sont les suivantes :\n",
    "1. Importer les librairies nécessaires\n",
    "2. Charger le jeu de données dans des variables X_train, y_train, X_test, y_test\n",
    "3. Préparer les données pour l'entrainement du modèle :\n",
    "- supprimer les colonnes inutiles\n",
    "- encoder les variables catégorielles\n",
    "- scaler les variables numériques\n",
    "4. Entrainer le modèle\n",
    "5. Evaluer le modèle\n",
    "\n",
    "**[Ressources utiles](https://drive.google.com/file/d/12sKr9R0A8lq2hcWUJDIx3SuyOOl_4hiA/view?usp=sharing)**"
   ]
  },
  {
   "cell_type": "code",
   "execution_count": 1,
   "metadata": {
    "id": "hFP9AXgh_o_g"
   },
   "outputs": [],
   "source": [
    "import pandas as pd\n",
    "from sklearn.model_selection import train_test_split\n",
    "from sklearn.preprocessing import StandardScaler\n",
    "from sklearn.preprocessing import LabelEncoder\n",
    "from sklearn.ensemble import RandomForestClassifier\n",
    "from sklearn.metrics import accuracy_score"
   ]
  },
  {
   "cell_type": "code",
   "execution_count": null,
   "metadata": {
    "id": "dzA23svd_o_g"
   },
   "outputs": [],
   "source": []
  },
  {
   "cell_type": "code",
   "execution_count": 2,
   "metadata": {
    "id": "fP9Nf9oc_o_g"
   },
   "outputs": [
    {
     "data": {
      "text/html": [
       "<div>\n",
       "<style scoped>\n",
       "    .dataframe tbody tr th:only-of-type {\n",
       "        vertical-align: middle;\n",
       "    }\n",
       "\n",
       "    .dataframe tbody tr th {\n",
       "        vertical-align: top;\n",
       "    }\n",
       "\n",
       "    .dataframe thead th {\n",
       "        text-align: right;\n",
       "    }\n",
       "</style>\n",
       "<table border=\"1\" class=\"dataframe\">\n",
       "  <thead>\n",
       "    <tr style=\"text-align: right;\">\n",
       "      <th></th>\n",
       "      <th>ID</th>\n",
       "      <th>age</th>\n",
       "      <th>job</th>\n",
       "      <th>marital</th>\n",
       "      <th>education</th>\n",
       "      <th>default</th>\n",
       "      <th>balance</th>\n",
       "      <th>housing</th>\n",
       "      <th>loan</th>\n",
       "      <th>contact</th>\n",
       "      <th>day</th>\n",
       "      <th>month</th>\n",
       "      <th>campaign</th>\n",
       "      <th>pdays</th>\n",
       "      <th>previous</th>\n",
       "      <th>poutcome</th>\n",
       "      <th>y</th>\n",
       "    </tr>\n",
       "  </thead>\n",
       "  <tbody>\n",
       "    <tr>\n",
       "      <th>0</th>\n",
       "      <td>13829</td>\n",
       "      <td>29</td>\n",
       "      <td>technician</td>\n",
       "      <td>single</td>\n",
       "      <td>tertiary</td>\n",
       "      <td>no</td>\n",
       "      <td>18254</td>\n",
       "      <td>no</td>\n",
       "      <td>no</td>\n",
       "      <td>cellular</td>\n",
       "      <td>11</td>\n",
       "      <td>may</td>\n",
       "      <td>2</td>\n",
       "      <td>-1</td>\n",
       "      <td>0</td>\n",
       "      <td>unknown</td>\n",
       "      <td>no</td>\n",
       "    </tr>\n",
       "    <tr>\n",
       "      <th>1</th>\n",
       "      <td>22677</td>\n",
       "      <td>26</td>\n",
       "      <td>services</td>\n",
       "      <td>single</td>\n",
       "      <td>secondary</td>\n",
       "      <td>no</td>\n",
       "      <td>512</td>\n",
       "      <td>yes</td>\n",
       "      <td>yes</td>\n",
       "      <td>unknown</td>\n",
       "      <td>5</td>\n",
       "      <td>jun</td>\n",
       "      <td>3</td>\n",
       "      <td>-1</td>\n",
       "      <td>0</td>\n",
       "      <td>unknown</td>\n",
       "      <td>no</td>\n",
       "    </tr>\n",
       "    <tr>\n",
       "      <th>2</th>\n",
       "      <td>10541</td>\n",
       "      <td>30</td>\n",
       "      <td>management</td>\n",
       "      <td>single</td>\n",
       "      <td>secondary</td>\n",
       "      <td>no</td>\n",
       "      <td>135</td>\n",
       "      <td>no</td>\n",
       "      <td>no</td>\n",
       "      <td>cellular</td>\n",
       "      <td>14</td>\n",
       "      <td>aug</td>\n",
       "      <td>2</td>\n",
       "      <td>-1</td>\n",
       "      <td>0</td>\n",
       "      <td>unknown</td>\n",
       "      <td>no</td>\n",
       "    </tr>\n",
       "    <tr>\n",
       "      <th>3</th>\n",
       "      <td>13689</td>\n",
       "      <td>41</td>\n",
       "      <td>technician</td>\n",
       "      <td>married</td>\n",
       "      <td>unknown</td>\n",
       "      <td>no</td>\n",
       "      <td>30</td>\n",
       "      <td>yes</td>\n",
       "      <td>no</td>\n",
       "      <td>cellular</td>\n",
       "      <td>10</td>\n",
       "      <td>jul</td>\n",
       "      <td>1</td>\n",
       "      <td>-1</td>\n",
       "      <td>0</td>\n",
       "      <td>unknown</td>\n",
       "      <td>no</td>\n",
       "    </tr>\n",
       "    <tr>\n",
       "      <th>4</th>\n",
       "      <td>11304</td>\n",
       "      <td>27</td>\n",
       "      <td>admin.</td>\n",
       "      <td>single</td>\n",
       "      <td>secondary</td>\n",
       "      <td>no</td>\n",
       "      <td>321</td>\n",
       "      <td>no</td>\n",
       "      <td>yes</td>\n",
       "      <td>unknown</td>\n",
       "      <td>2</td>\n",
       "      <td>sep</td>\n",
       "      <td>1</td>\n",
       "      <td>-1</td>\n",
       "      <td>0</td>\n",
       "      <td>unknown</td>\n",
       "      <td>no</td>\n",
       "    </tr>\n",
       "    <tr>\n",
       "      <th>...</th>\n",
       "      <td>...</td>\n",
       "      <td>...</td>\n",
       "      <td>...</td>\n",
       "      <td>...</td>\n",
       "      <td>...</td>\n",
       "      <td>...</td>\n",
       "      <td>...</td>\n",
       "      <td>...</td>\n",
       "      <td>...</td>\n",
       "      <td>...</td>\n",
       "      <td>...</td>\n",
       "      <td>...</td>\n",
       "      <td>...</td>\n",
       "      <td>...</td>\n",
       "      <td>...</td>\n",
       "      <td>...</td>\n",
       "      <td>...</td>\n",
       "    </tr>\n",
       "    <tr>\n",
       "      <th>12865</th>\n",
       "      <td>14023</td>\n",
       "      <td>47</td>\n",
       "      <td>technician</td>\n",
       "      <td>married</td>\n",
       "      <td>secondary</td>\n",
       "      <td>no</td>\n",
       "      <td>1167</td>\n",
       "      <td>yes</td>\n",
       "      <td>no</td>\n",
       "      <td>cellular</td>\n",
       "      <td>30</td>\n",
       "      <td>apr</td>\n",
       "      <td>1</td>\n",
       "      <td>87</td>\n",
       "      <td>5</td>\n",
       "      <td>failure</td>\n",
       "      <td>yes</td>\n",
       "    </tr>\n",
       "    <tr>\n",
       "      <th>12866</th>\n",
       "      <td>17259</td>\n",
       "      <td>31</td>\n",
       "      <td>unknown</td>\n",
       "      <td>married</td>\n",
       "      <td>secondary</td>\n",
       "      <td>no</td>\n",
       "      <td>111</td>\n",
       "      <td>no</td>\n",
       "      <td>no</td>\n",
       "      <td>cellular</td>\n",
       "      <td>21</td>\n",
       "      <td>nov</td>\n",
       "      <td>2</td>\n",
       "      <td>93</td>\n",
       "      <td>2</td>\n",
       "      <td>failure</td>\n",
       "      <td>yes</td>\n",
       "    </tr>\n",
       "    <tr>\n",
       "      <th>12867</th>\n",
       "      <td>15200</td>\n",
       "      <td>37</td>\n",
       "      <td>unemployed</td>\n",
       "      <td>single</td>\n",
       "      <td>tertiary</td>\n",
       "      <td>no</td>\n",
       "      <td>1316</td>\n",
       "      <td>yes</td>\n",
       "      <td>no</td>\n",
       "      <td>cellular</td>\n",
       "      <td>18</td>\n",
       "      <td>nov</td>\n",
       "      <td>1</td>\n",
       "      <td>172</td>\n",
       "      <td>2</td>\n",
       "      <td>failure</td>\n",
       "      <td>no</td>\n",
       "    </tr>\n",
       "    <tr>\n",
       "      <th>12868</th>\n",
       "      <td>13775</td>\n",
       "      <td>42</td>\n",
       "      <td>management</td>\n",
       "      <td>married</td>\n",
       "      <td>tertiary</td>\n",
       "      <td>no</td>\n",
       "      <td>479</td>\n",
       "      <td>yes</td>\n",
       "      <td>no</td>\n",
       "      <td>unknown</td>\n",
       "      <td>28</td>\n",
       "      <td>may</td>\n",
       "      <td>2</td>\n",
       "      <td>-1</td>\n",
       "      <td>0</td>\n",
       "      <td>unknown</td>\n",
       "      <td>no</td>\n",
       "    </tr>\n",
       "    <tr>\n",
       "      <th>12869</th>\n",
       "      <td>20137</td>\n",
       "      <td>24</td>\n",
       "      <td>services</td>\n",
       "      <td>single</td>\n",
       "      <td>secondary</td>\n",
       "      <td>no</td>\n",
       "      <td>0</td>\n",
       "      <td>no</td>\n",
       "      <td>no</td>\n",
       "      <td>unknown</td>\n",
       "      <td>16</td>\n",
       "      <td>may</td>\n",
       "      <td>1</td>\n",
       "      <td>-1</td>\n",
       "      <td>0</td>\n",
       "      <td>unknown</td>\n",
       "      <td>no</td>\n",
       "    </tr>\n",
       "  </tbody>\n",
       "</table>\n",
       "<p>12870 rows × 17 columns</p>\n",
       "</div>"
      ],
      "text/plain": [
       "          ID  age         job  marital  education default  balance housing  \\\n",
       "0      13829   29  technician   single   tertiary      no    18254      no   \n",
       "1      22677   26    services   single  secondary      no      512     yes   \n",
       "2      10541   30  management   single  secondary      no      135      no   \n",
       "3      13689   41  technician  married    unknown      no       30     yes   \n",
       "4      11304   27      admin.   single  secondary      no      321      no   \n",
       "...      ...  ...         ...      ...        ...     ...      ...     ...   \n",
       "12865  14023   47  technician  married  secondary      no     1167     yes   \n",
       "12866  17259   31     unknown  married  secondary      no      111      no   \n",
       "12867  15200   37  unemployed   single   tertiary      no     1316     yes   \n",
       "12868  13775   42  management  married   tertiary      no      479     yes   \n",
       "12869  20137   24    services   single  secondary      no        0      no   \n",
       "\n",
       "      loan   contact  day month  campaign  pdays  previous poutcome    y  \n",
       "0       no  cellular   11   may         2     -1         0  unknown   no  \n",
       "1      yes   unknown    5   jun         3     -1         0  unknown   no  \n",
       "2       no  cellular   14   aug         2     -1         0  unknown   no  \n",
       "3       no  cellular   10   jul         1     -1         0  unknown   no  \n",
       "4      yes   unknown    2   sep         1     -1         0  unknown   no  \n",
       "...    ...       ...  ...   ...       ...    ...       ...      ...  ...  \n",
       "12865   no  cellular   30   apr         1     87         5  failure  yes  \n",
       "12866   no  cellular   21   nov         2     93         2  failure  yes  \n",
       "12867   no  cellular   18   nov         1    172         2  failure   no  \n",
       "12868   no   unknown   28   may         2     -1         0  unknown   no  \n",
       "12869   no   unknown   16   may         1     -1         0  unknown   no  \n",
       "\n",
       "[12870 rows x 17 columns]"
      ]
     },
     "execution_count": 2,
     "metadata": {},
     "output_type": "execute_result"
    }
   ],
   "source": [
    "df = pd.read_csv('train.csv')\n",
    "df"
   ]
  },
  {
   "cell_type": "code",
   "execution_count": 3,
   "metadata": {
    "id": "YytekxqAI8yy"
   },
   "outputs": [],
   "source": [
    "X = df.drop(['ID', 'contact', 'month', 'day', 'y'], axis=1)\n",
    "y = df['y']\n"
   ]
  },
  {
   "cell_type": "code",
   "execution_count": 5,
   "metadata": {
    "id": "Q7ldl3ZZI8ws"
   },
   "outputs": [
    {
     "data": {
      "text/plain": [
       "array([0, 0, 0, ..., 0, 0, 0], dtype=int64)"
      ]
     },
     "execution_count": 5,
     "metadata": {},
     "output_type": "execute_result"
    }
   ],
   "source": [
    "le = LabelEncoder()\n",
    "X['job'] = le.fit_transform(X['job'])\n",
    "X['marital'] = le.fit_transform(X['marital'])\n",
    "X['education'] = le.fit_transform(X['education'])\n",
    "X['default'] = le.fit_transform(X['default'])\n",
    "X['housing'] = le.fit_transform(X['housing'])\n",
    "X['loan'] = le.fit_transform(X['loan'])\n",
    "X['poutcome'] = le.fit_transform(X['poutcome'])\n",
    "\n",
    "y = le.fit_transform(y)\n",
    "y"
   ]
  },
  {
   "cell_type": "code",
   "execution_count": 6,
   "metadata": {
    "id": "Hq3-A1YvI8uG"
   },
   "outputs": [
    {
     "name": "stdout",
     "output_type": "stream",
     "text": [
      "Accuracy: 0.7548562548562548\n"
     ]
    }
   ],
   "source": [
    "sc = StandardScaler()\n",
    "X = sc.fit_transform(X)\n",
    "\n",
    "X_train, X_test, y_train, y_test = train_test_split(X, y, test_size=0.2, random_state=42)\n",
    "\n",
    "rf = RandomForestClassifier(n_estimators=100, random_state=42)\n",
    "rf.fit(X_train, y_train)\n",
    "\n",
    "y_pred = rf.predict(X_test)\n",
    "print(\"Accuracy:\", accuracy_score(y_test, y_pred))\n"
   ]
  },
  {
   "cell_type": "code",
   "execution_count": null,
   "metadata": {
    "id": "g-_8u3dnI8rx"
   },
   "outputs": [],
   "source": []
  },
  {
   "cell_type": "markdown",
   "metadata": {
    "id": "2X8DZIX4_o_g"
   },
   "source": [
    "# 2. Le Perceptron\n",
    "\n",
    "Un perceptron est un algorithme d'apprentissage automatique supervisé. Il a été développé dans les années 1950 et est considéré comme la plus petite unité de base dans un réseau de neurones.\n",
    "\n",
    "\n",
    "Les perceptrons sont une abstraction simplifiée des neurones biologiques.\n",
    "\n",
    "Un neurone est la cellule de base du système nerveux, responsable de la transmission de l'information électrique dans le corps. Un neurone est constitué de trois parties principales : le corps cellulaire, les dendrites et l'axone. Les dendrites reçoivent les signaux électriques provenant d'autres neurones ou de l'environnement, et les transmettent au corps cellulaire. Le corps cellulaire intègre les signaux entrants et, si la somme de ces signaux dépasse un seuil de déclenchement, il envoie un signal électrique le long de l'axone, qui transmet l'information à d'autres neurones.\n",
    "\n",
    "\n",
    "\n",
    "<img src='https://appliedgo.net/media/perceptron/neuron.png'>\n",
    "\n",
    "\n",
    "Le perceptron est un algorithme d'apprentissage automatique classique qui a été largement étudié et utilisé, et il a posé les bases pour le développement de réseaux de neurones artificiels plus complexes."
   ]
  },
  {
   "cell_type": "markdown",
   "metadata": {
    "id": "wIckbkU0_o_g"
   },
   "source": [
    "**Principe mathématique du perceptron** :\n",
    "\n",
    "Le perceptron est un type de modèle de réseau de neurones artificiels qui est inspiré par le fonctionnement des neurones biologiques. \n",
    "\n",
    "<img src='https://github.com/Mickevin/Introduction-au-DeepLearning/blob/main/Perceptron.jpg?raw=true'>\n",
    "\n",
    "\n",
    "Un perceptron prend en entrée un vecteur de données, multiplie chaque élément de ce vecteur par un poids correspondant, et calcule la somme pondérée de ces produits. Ensuite, un seuil est appliqué à cette somme pour déterminer la sortie du perceptron. Si la somme pondérée est supérieure au seuil, le perceptron renvoie 1, sinon il renvoie 0.\n",
    "\n",
    "\n",
    "<img src='https://github.com/Mickevin/Introduction-au-DeepLearning/blob/main/Weigth.jpg?raw=true'>\n",
    "\n",
    "### Exercice : Entrainement d'un perceptron\n",
    "\n",
    "1. Exécutez le code suivant et observez les résultats.\n",
    "- Combien de poids a le perceptron ?\n",
    "- Quelle est la valeur de sortie du perceptron ?\n",
    "- Que pensez-vous de la valeur de sortie du perceptron ?\n",
    "\n",
    "\n",
    "2. A partir du code suivant obtenez les poids du perceptron au cours de l'entrainement à l'aide de la fonction `print()`.\n",
    "\n",
    "3. Créez une méthode fit() qui permet d'entrainer le perceptron sur un ensemble de données d'entrée et de sortie. La méthode prend en paramètre `X` les features, `y` les labels, `alpha` le taux d'apprentissage (learning rate) et `n` le nombre d'itérations.\n",
    "\n",
    "4. Créez une méthode predict() qui permet de prédire les labels à partir des features. La méthode prend en paramètre `X` les features.\n",
    "\n",
    "5. Entrainez le perceptron sur l'ensemble de données vu précédemment et prédisez les labels à partir des features."
   ]
  },
  {
   "cell_type": "code",
   "execution_count": 7,
   "metadata": {
    "id": "vrZuTn_J_o_h",
    "outputId": "581b366f-79a9-4be1-94e5-5980884b19b5"
   },
   "outputs": [
    {
     "name": "stdout",
     "output_type": "stream",
     "text": [
      "1\n",
      "1\n",
      "1\n",
      "1\n"
     ]
    }
   ],
   "source": [
    "import random\n",
    "\n",
    "\n",
    "# Initialisation des poids et du biais\n",
    "# num_inputs est la dimension des données d'entrée (nombre de features de X)\n",
    "# Les poids sont initialisés aléatoirement entre -1 et 1\n",
    "# Le biais est initialisé aléatoirement entre -1 et 1\n",
    "\n",
    "class Perceptron:\n",
    "    def __init__(self, num_inputs):\n",
    "        self.weights = [random.uniform(-1,1) for _ in range(num_inputs)]\n",
    "        self.bias = random.uniform(-1,1)\n",
    "\n",
    "    def pred(self, inputs):\n",
    "        total = 0\n",
    "        for i in range(len(inputs)):\n",
    "            total += self.weights[i] * inputs[i]\n",
    "        total += self.bias\n",
    "        return 1 if total > 0 else 0\n",
    "\n",
    "    def train(self, inputs, label, learning_rate):\n",
    "        prediction = self.pred(inputs)\n",
    "        error = label - prediction\n",
    "        for i in range(len(inputs)):\n",
    "            self.weights[i] += error * inputs[i] * learning_rate\n",
    "        self.bias += error * learning_rate\n",
    "\n",
    "# Exemple d'utilisation :\n",
    "model = Perceptron(2)\n",
    "X = [[0,0], [0,1], [1,0], [1,1]]\n",
    "y = [0, 1, 1, 1]\n",
    "\n",
    "for _ in range(10):\n",
    "    for data in zip(X,y):\n",
    "        model.train(data[0], data[1], 0.1)\n",
    "\n",
    "print(model.pred(X[0]))\n",
    "print(model.pred(X[1]))\n",
    "print(model.pred(X[2]))\n",
    "print(model.pred(X[3]))"
   ]
  },
  {
   "cell_type": "code",
   "execution_count": 8,
   "metadata": {
    "id": "jskbmcae_o_i"
   },
   "outputs": [
    {
     "data": {
      "text/plain": [
       "[-0.49764044551094444,\n",
       " 0.9453912428849662,\n",
       " 0.47688134735564813,\n",
       " -0.05289072982215082,\n",
       " 0.8942253571561842]"
      ]
     },
     "execution_count": 8,
     "metadata": {},
     "output_type": "execute_result"
    }
   ],
   "source": [
    "import random\n",
    "w = [random.uniform(-1,1) for _ in range(5)]\n",
    "w"
   ]
  },
  {
   "cell_type": "code",
   "execution_count": null,
   "metadata": {
    "id": "M1lkGd4C_o_i"
   },
   "outputs": [],
   "source": []
  },
  {
   "cell_type": "code",
   "execution_count": 9,
   "metadata": {
    "id": "CA6vI83E_o_i"
   },
   "outputs": [],
   "source": [
    "import random\n",
    "import numpy as np\n",
    "\n",
    "class Perceptron:\n",
    "    def __init__(self, num_inputs):\n",
    "        self.weights = [random.uniform(-1,1) for _ in range(num_inputs)]\n",
    "        self.bias = random.uniform(-1,1)\n",
    "\n",
    "    def pred(self, inputs):\n",
    "        \n",
    "        z = (np.array(self.weights) * np.array(inputs)).sum() + self.bias\n",
    "\n",
    "        return 1 if z > 0 else 0\n",
    "\n",
    "    def train(self, inputs, label, learning_rate):\n",
    "        prediction = self.pred(inputs)\n",
    "        error = label - prediction\n",
    "\n",
    "        self.weights = np.array(self.weights) + np.array(inputs) * error * learning_rate\n",
    "        self.bias += error * learning_rate\n",
    "\n",
    "    def fit(self, X, y, n, alpha=0.1):\n",
    "        accuracy = []\n",
    "        for _ in range(n):\n",
    "            for data in zip(X,y):\n",
    "                self.train(data[0], data[1], alpha)\n",
    "            y_pred = self.predict(X)\n",
    "            accuracy.append(accuracy_score(y, y_pred))\n",
    "        return accuracy\n",
    "                \n",
    "\n",
    "    def predict(self, X):\n",
    "        return np.array([self.pred(x) for x in X])"
   ]
  },
  {
   "cell_type": "code",
   "execution_count": null,
   "metadata": {
    "id": "SMwLKbaC_o_i"
   },
   "outputs": [],
   "source": [
    "model = Perceptron(12)\n",
    "\n",
    "acc = model.fit(X_train, y_train, 500, alpha=0.8)"
   ]
  },
  {
   "cell_type": "code",
   "execution_count": null,
   "metadata": {
    "id": "tAdcDOFR_o_i"
   },
   "outputs": [],
   "source": [
    "import matplotlib.pyplot as plt\n",
    "\n",
    "plt.plot(range(500), acc)\n",
    "plt.show()"
   ]
  },
  {
   "cell_type": "code",
   "execution_count": null,
   "metadata": {
    "id": "7wbeCLv4_o_i"
   },
   "outputs": [],
   "source": [
    "y_pred = model.predict(X_test)\n",
    "y_pred"
   ]
  },
  {
   "cell_type": "code",
   "execution_count": null,
   "metadata": {
    "id": "n03wbO7Q_o_i"
   },
   "outputs": [],
   "source": [
    "accuracy_score(y_test, y_pred)"
   ]
  },
  {
   "cell_type": "code",
   "execution_count": null,
   "metadata": {},
   "outputs": [],
   "source": [
    "model.weights"
   ]
  },
  {
   "cell_type": "code",
   "execution_count": null,
   "metadata": {},
   "outputs": [],
   "source": [
    "model.bias"
   ]
  },
  {
   "cell_type": "code",
   "execution_count": null,
   "metadata": {},
   "outputs": [],
   "source": []
  },
  {
   "cell_type": "code",
   "execution_count": null,
   "metadata": {},
   "outputs": [],
   "source": []
  },
  {
   "cell_type": "markdown",
   "metadata": {
    "id": "54CZeFFS_o_i"
   },
   "source": [
    "# 3. Multi Layer Perceptron (MLP) - Réseaux de neurones artificiels\n",
    "\n",
    "\n",
    "Un Multi Layer Perceptron (MLP) est un réseau de neurones artificiels composé de plusieurs couches de perceptron, où chaque neurone d'une couche est connecté à tous les neurones de la couche suivante. Les couches intermédiaires entre la couche d'entrée et la couche de sortie sont appelées couches cachées.\n",
    "\n",
    "Chaque neurone d'un MLP utilise une fonction d'activation non linéaire pour transformer la somme pondérée des signaux d'entrée en une sortie. Les poids et les biais de chaque neurone sont appris par rétropropagation (backpropagation) lors de l'entraînement du réseau à partir d'un ensemble de données d'entraînement.\n",
    "\n",
    "<img src='https://raw.githubusercontent.com/ECE-Engineer/TensorFlow-Multilayer-Perceptron/master/MLP.png'>\n",
    "\n",
    "Un réseau de neuronnes est  caractérisé par : \n",
    "- le nombre de couches qu'il contient, \n",
    "- le nombre de neurones par couche,\n",
    "- la fonction d'activation utilisée par chaque neurone.\n",
    "\n",
    "<img src='https://upload.wikimedia.org/wikipedia/commons/thumb/a/ab/TensorFlow_logo.svg/1200px-TensorFlow_logo.svg.png'>\n",
    "\n",
    "[TensorFlow](https://www.tensorflow.org/) est une bibliothèque open source de calcul numérique et de machine learning, développée par Google Brain Team. Elle permet de créer et d'entraîner des de deeplearning  pour diverses tâches telles que la classification, la reconnaissance d'image, la détection d'objet, la segmentation d'image, la génération de texte et bien plus encore. \n",
    "\n",
    "Les modèles de deeplearning sont créés en assemblant des couches de neurones et en ajustant les poids de ces neurones lors de l'entraînement pour améliorer les performances du modèle. TensorFlow est utilisé dans de nombreuses industries et domaines, tels que la reconnaissance vocale, la robotique, la vision par ordinateur, la biologie, la finance, etc."
   ]
  },
  {
   "cell_type": "code",
   "execution_count": 1,
   "metadata": {
    "id": "ntJWXy-__o_j",
    "outputId": "9d921eb4-2bd1-4ff8-cebe-40a88726ab3e"
   },
   "outputs": [],
   "source": [
    "import tensorflow as tf\n",
    "import numpy as np\n",
    "\n",
    "class MultiLayerPerceptron:\n",
    "    def __init__(self, input_dim, output_dim):\n",
    "\n",
    "        # On crée un modèle séquentiel\n",
    "        self.model = tf.keras.models.Sequential() \n",
    "\n",
    "        # Première couche cachée de 3 neurones\n",
    "        self.model.add(tf.keras.layers.Dense(3, input_dim=input_dim, activation='sigmoid'))\n",
    "\n",
    "        # Deuxième couche cachée de 3 neurones\n",
    "        self.model.add(tf.keras.layers.Dense(3, activation='sigmoid'))\n",
    "        self.model.add(tf.keras.layers.Dense(67, activation='sigmoid'))\n",
    "\n",
    "        self.model.add(tf.keras.layers.Dense(output_dim, activation='sigmoid'))\n",
    "\n",
    "    \n",
    "model = MultiLayerPerceptron(12, 1).model"
   ]
  },
  {
   "cell_type": "code",
   "execution_count": 26,
   "metadata": {
    "id": "8UZdwewY_o_j"
   },
   "outputs": [
    {
     "ename": "TypeError",
     "evalue": "Perceptron.fit() got an unexpected keyword argument 'epochs'",
     "output_type": "error",
     "traceback": [
      "\u001b[1;31m---------------------------------------------------------------------------\u001b[0m",
      "\u001b[1;31mTypeError\u001b[0m                                 Traceback (most recent call last)",
      "Cell \u001b[1;32mIn[26], line 1\u001b[0m\n\u001b[1;32m----> 1\u001b[0m model\u001b[39m.\u001b[39;49mfit(X_train, y_train, epochs\u001b[39m=\u001b[39;49m\u001b[39m10\u001b[39;49m, batch_size\u001b[39m=\u001b[39;49m\u001b[39m32\u001b[39;49m, verbose\u001b[39m=\u001b[39;49m\u001b[39m1\u001b[39;49m)\n",
      "\u001b[1;31mTypeError\u001b[0m: Perceptron.fit() got an unexpected keyword argument 'epochs'"
     ]
    }
   ],
   "source": [
    "model.fit(X_train, y_train, epochs=10, batch_size=32, verbose=1)"
   ]
  },
  {
   "cell_type": "code",
   "execution_count": 27,
   "metadata": {},
   "outputs": [
    {
     "ename": "TypeError",
     "evalue": "Perceptron.fit() got an unexpected keyword argument 'epochs'",
     "output_type": "error",
     "traceback": [
      "\u001b[1;31m---------------------------------------------------------------------------\u001b[0m",
      "\u001b[1;31mTypeError\u001b[0m                                 Traceback (most recent call last)",
      "Cell \u001b[1;32mIn[27], line 1\u001b[0m\n\u001b[1;32m----> 1\u001b[0m model\u001b[39m.\u001b[39;49mfit(X_train, y_train, epochs\u001b[39m=\u001b[39;49m\u001b[39m10\u001b[39;49m, batch_size\u001b[39m=\u001b[39;49m\u001b[39m32\u001b[39;49m, verbose\u001b[39m=\u001b[39;49m\u001b[39m1\u001b[39;49m)\n",
      "\u001b[1;31mTypeError\u001b[0m: Perceptron.fit() got an unexpected keyword argument 'epochs'"
     ]
    }
   ],
   "source": [
    "model.fit(X_train, y_train, epochs=10, batch_size=32, verbose=1)"
   ]
  },
  {
   "cell_type": "code",
   "execution_count": null,
   "metadata": {},
   "outputs": [],
   "source": []
  },
  {
   "cell_type": "markdown",
   "metadata": {
    "id": "opmYBSQV_o_j"
   },
   "source": [
    "### Exercice : Entrainement d'un MLP à l'aide de TensorFlow\n",
    "\n",
    "Entrainez le modèle présenté ci-desus sur l'ensemble de données `Bank marketing response predict`."
   ]
  },
  {
   "cell_type": "markdown",
   "metadata": {
    "id": "uBVamPIp_o_j"
   },
   "source": []
  }
 ],
 "metadata": {
  "colab": {
   "provenance": []
  },
  "kernelspec": {
   "display_name": "Python 3 (ipykernel)",
   "language": "python",
   "name": "python3"
  },
  "language_info": {
   "codemirror_mode": {
    "name": "ipython",
    "version": 3
   },
   "file_extension": ".py",
   "mimetype": "text/x-python",
   "name": "python",
   "nbconvert_exporter": "python",
   "pygments_lexer": "ipython3",
   "version": "3.10.9"
  }
 },
 "nbformat": 4,
 "nbformat_minor": 1
}
